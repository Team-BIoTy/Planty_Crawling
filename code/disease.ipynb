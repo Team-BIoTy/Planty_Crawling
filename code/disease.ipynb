{
 "cells": [
  {
   "cell_type": "code",
   "execution_count": 19,
   "metadata": {},
   "outputs": [
    {
     "data": {
      "text/plain": [
       "0                 가울테리아\n",
       "1                   개운죽\n",
       "2           골드크레스트 '윌마'\n",
       "3                  공작야자\n",
       "4                관엽베고니아\n",
       "             ...       \n",
       "211                 황금죽\n",
       "212               후피향나무\n",
       "213             흰꽃나도사프란\n",
       "214    흰줄무늬달개비(트라데스칸티아)\n",
       "215              히포에스테스\n",
       "Name: 이름, Length: 216, dtype: object"
      ]
     },
     "execution_count": 19,
     "metadata": {},
     "output_type": "execute_result"
    }
   ],
   "source": [
    "import pandas as pd\n",
    "df = pd.read_csv('leaf_manage.csv')\n",
    "df['이름']"
   ]
  },
  {
   "cell_type": "code",
   "execution_count": 17,
   "metadata": {},
   "outputs": [
    {
     "name": "stdout",
     "output_type": "stream",
     "text": [
      "['개각충', '깍지벌레', '온실가루이', '응애', '진딧물', '총채벌레']\n"
     ]
    }
   ],
   "source": [
    "unique = set()\n",
    "df['병충해'].dropna().apply(lambda x: unique.update(x.split(\",\")))\n",
    "pest_list = sorted(unique)\n",
    "print(pest_list)"
   ]
  },
  {
   "cell_type": "code",
   "execution_count": null,
   "metadata": {},
   "outputs": [],
   "source": []
  }
 ],
 "metadata": {
  "kernelspec": {
   "display_name": "crawling",
   "language": "python",
   "name": "python3"
  },
  "language_info": {
   "codemirror_mode": {
    "name": "ipython",
    "version": 3
   },
   "file_extension": ".py",
   "mimetype": "text/x-python",
   "name": "python",
   "nbconvert_exporter": "python",
   "pygments_lexer": "ipython3",
   "version": "3.13.1"
  }
 },
 "nbformat": 4,
 "nbformat_minor": 2
}
